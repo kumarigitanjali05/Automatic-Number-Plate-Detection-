{
  "cells": [
    {
      "cell_type": "markdown",
      "metadata": {},
      "source": [
        "<h5 style=\"color:purple\" align=\"left\"> Loading Data </h5>"
      ]
    },
    {
      "cell_type": "code",
      "execution_count": null,
      "metadata": {
        "colab": {
          "base_uri": "https://localhost:8080/"
        },
        "id": "B8Pa10eBEuvN",
        "outputId": "ff4fc9c9-7f0f-4ee2-b9d9-2e5006d1e2e8"
      },
      "outputs": [
        {
          "name": "stdout",
          "output_type": "stream",
          "text": [
            "Mounted at /content/drive\n"
          ]
        }
      ],
      "source": [
        "#mouting from google drive\n",
        "from google.colab import drive\n",
        "drive.mount('/content/drive')"
      ]
    },
    {
      "cell_type": "code",
      "execution_count": null,
      "metadata": {
        "colab": {
          "base_uri": "https://localhost:8080/"
        },
        "id": "fiWjH8OnxRO7",
        "outputId": "2b6e4943-2616-4f16-aed6-1b1bc5ba797f"
      },
      "outputs": [
        {
          "name": "stdout",
          "output_type": "stream",
          "text": [
            "/content/drive/MyDrive/NUM/NumberPlate\n"
          ]
        }
      ],
      "source": [
        "#directory changed\n",
        "cd /content/drive/MyDrive/NUM/NumberPlate"
      ]
    },
    {
      "cell_type": "markdown",
      "metadata": {},
      "source": [
        "<h5 style=\"color:purple\" align=\"left\"> Loading YOLO v9 Model </h5>"
      ]
    },
    {
      "cell_type": "code",
      "execution_count": null,
      "metadata": {
        "id": "NUoU1l6aKGk_"
      },
      "outputs": [],
      "source": [
        "#cloning from YOLOV9 github repo\n",
        "!git clone https://github.com/WongKinYiu/yolov9.git"
      ]
    },
    {
      "cell_type": "code",
      "execution_count": null,
      "metadata": {
        "colab": {
          "base_uri": "https://localhost:8080/"
        },
        "id": "GAO8E-uqxuWX",
        "outputId": "5ee303bf-6d06-4ea3-d329-69141edf3575"
      },
      "outputs": [
        {
          "name": "stdout",
          "output_type": "stream",
          "text": [
            "/content/drive/MyDrive/NUM/NumberPlate/yolov9\n"
          ]
        }
      ],
      "source": [
        "cd /content/drive/MyDrive/NUM/NumberPlate/yolov9"
      ]
    }
  ],
  "metadata": {
    "colab": {
      "collapsed_sections": [
        "pr-htNrJleJe",
        "8Qaeq9NBQWmO"
      ],
      "provenance": []
    },
    "kernelspec": {
      "display_name": "Python 3",
      "name": "python3"
    },
    "language_info": {
      "name": "python"
    }
  },
  "nbformat": 4,
  "nbformat_minor": 0
}
